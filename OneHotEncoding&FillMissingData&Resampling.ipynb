{
 "cells": [
  {
   "cell_type": "code",
   "execution_count": 2,
   "metadata": {},
   "outputs": [],
   "source": [
    "import pandas as pd\n",
    "import numpy as np\n",
    "import datetime\n",
    "import glob\n",
    "import os"
   ]
  },
  {
   "cell_type": "code",
   "execution_count": 139,
   "metadata": {},
   "outputs": [],
   "source": [
    "#Readin merged data\n",
    "house1 = pd.read_csv('~/Desktop/data-x-data/ProcessedData/House1/House1_Appliances.csv',index_col = 0, parse_dates = True)"
   ]
  },
  {
   "cell_type": "code",
   "execution_count": 140,
   "metadata": {},
   "outputs": [
    {
     "data": {
      "text/plain": [
       "Timestamp('2012-06-01 00:00:00')"
      ]
     },
     "execution_count": 140,
     "metadata": {},
     "output_type": "execute_result"
    }
   ],
   "source": [
    "house1.head(1)"
   ]
  },
  {
   "cell_type": "code",
   "execution_count": null,
   "metadata": {},
   "outputs": [],
   "source": [
    "#Define function to add Day Of Week to data in one-hot-encoding form\n",
    "def DayOfWeek_one_hot_encoding(df):\n",
    "    DayOfWeek = df.index.weekday\n",
    "    df['DayOfWeek'] = DayOfWeek\n",
    "    df = df.join(pd.get_dummies(df['DayOfWeek']))\n",
    "    df.rename(columns={0:'Monday',\\\n",
    "                       1:'Tuesday',\\\n",
    "                       2:'Wednesday',\\\n",
    "                        3:'Thursday',\\\n",
    "                        4:'Friday',\\\n",
    "                        5:'Saturday',\\\n",
    "                        6:'Sunday',\\\n",
    "                        }, inplace=True)\n",
    "\n",
    "    return df"
   ]
  },
  {
   "cell_type": "code",
   "execution_count": null,
   "metadata": {},
   "outputs": [],
   "source": [
    "#Define function to add Month to data in one-hot-encoding form\n",
    "def Month_one_hot_encoding(df):\n",
    "    month = df.index.month\n",
    "    df['Month'] = month\n",
    "    df = df.join(pd.get_dummies(df['Month']))\n",
    "    df.rename(columns={1:'Jan',\\\n",
    "                       2:'Feb',\\\n",
    "                       3:'Mar',\\\n",
    "                       4:'Apr',\\\n",
    "                        5:'May',\\\n",
    "                        6:'Jun',\\\n",
    "                        7:'Jul',\\\n",
    "                        8:'Aug',\\\n",
    "                        9:'Sep',\\\n",
    "                       10:'Oct',\\\n",
    "                       11:'Nov',\\\n",
    "                       12:'Dec'}                       \n",
    "                        , inplace=True)\n",
    "    return df"
   ]
  },
  {
   "cell_type": "code",
   "execution_count": null,
   "metadata": {},
   "outputs": [],
   "source": [
    "#Define function to find monthly day-of-week average consumption for given appliance \n",
    "#in frequency of 1 second\n",
    "def find_monthly_averge(df,ApplianceName):\n",
    "    Average = np.empty([7,13,86400])\n",
    "    for i in range(7):\n",
    "        for j in list(df.Month.unique()):\n",
    "            values = df.loc[((df['DayOfWeek']==i) & (df['Month']==j))][ApplianceName].reset_index()[ApplianceName].values\n",
    "            if len(values) == 86400*4:\n",
    "                avg = pd.DataFrame({'firstweek':values[:86400], 'secondweek':values[86400:86400*2],\\\n",
    "                               'thirdweek':values[86400*2:86400*3], 'fourthweek':values[86400*3:86400*4]})\n",
    "                avgvalue = avg.mean(axis=1)\n",
    "            if len(values) == 86400*5:\n",
    "                avg = pd.DataFrame({'firstweek':values[:86400], 'secondweek':values[86400:86400*2],\\\n",
    "                               'thirdweek':values[86400*2:86400*3], 'fourthweek':values[86400*3:86400*4],\\\n",
    "                               'fifthweek':values[86400*4:86400*5]})\n",
    "            Average[i,j] = avg.mean(axis=1)\n",
    "    return Average"
   ]
  },
  {
   "cell_type": "code",
   "execution_count": null,
   "metadata": {},
   "outputs": [],
   "source": [
    "#Define function to assign monthly average value to a column in data\n",
    "def assign_monthly_average(df,ApplianceName,Value):\n",
    "    colname = ApplianceName+'MonthlyAvg'\n",
    "    df[colname] = 0\n",
    "    for i in range(7): \n",
    "        for j in list(df.Month.unique()): \n",
    "            n = int(df[colname].loc[((df['DayOfWeek']==i) & (df['Month']==j))].shape[0] / 86400)\n",
    "            l = list(Value[i,j])*n\n",
    "            df[colname].loc[((df['DayOfWeek']==i) & (df['Month']==j))] = l\n",
    "    return df"
   ]
  },
  {
   "cell_type": "code",
   "execution_count": null,
   "metadata": {},
   "outputs": [],
   "source": [
    "#Define function to fill NaN value with average of the same day-of-week in the particular\n",
    "#month for that timing \n",
    "def fill_missing_value(df,ApplianceName):\n",
    "    colname = ApplianceName+'MonthlyAvg'\n",
    "    df[ApplianceName].loc[df[ApplianceName].isnull()] = df[colname]\n",
    "    return df"
   ]
  },
  {
   "cell_type": "code",
   "execution_count": null,
   "metadata": {},
   "outputs": [],
   "source": [
    "#Define function to fill All NaN value in the dataframe with average of the same day-of-week \n",
    "#in the particular month for that timing \n",
    "def fill_All_missing_value(df,colnames):\n",
    "    for colname in colnames:\n",
    "        Average = find_monthly_averge(df,colname)\n",
    "        assign_monthly_average(df,colname,Average)\n",
    "        fill_missing_value(df,colname)\n",
    "    return df"
   ]
  },
  {
   "cell_type": "code",
   "execution_count": null,
   "metadata": {},
   "outputs": [],
   "source": [
    "#Add month & day of week to data\n",
    "house1 = DayOfWeek_one_hot_encoding(house1)\n",
    "house1 = Month_one_hot_encoding(house1)"
   ]
  },
  {
   "cell_type": "code",
   "execution_count": null,
   "metadata": {},
   "outputs": [],
   "source": [
    "Appliances = house1.columns[:7]\n",
    "Appliances"
   ]
  },
  {
   "cell_type": "code",
   "execution_count": null,
   "metadata": {},
   "outputs": [],
   "source": [
    "house1_1s = fill_All_missing_value(house1,Appliances)"
   ]
  },
  {
   "cell_type": "code",
   "execution_count": null,
   "metadata": {},
   "outputs": [],
   "source": [
    "house1_appliances = house1_1s[[Appliances]]"
   ]
  },
  {
   "cell_type": "code",
   "execution_count": null,
   "metadata": {},
   "outputs": [],
   "source": [
    "#Resampling: transform into other frequencies\n",
    "house1_30s = house1_appliances.resample('30S').sum() #30 seconds\n",
    "house1_1m = house1_appliances.resample('60S').sum() #1 minute\n",
    "house1_1h = house1_appliances.resample('1h').sum() #1 hour\n",
    "house1_1d = house1_appliances.resample('1d').sum() #1 day"
   ]
  },
  {
   "cell_type": "code",
   "execution_count": null,
   "metadata": {},
   "outputs": [],
   "source": [
    "#Add month & day of week to 30 seconds frequency data\n",
    "house1_30s = DayOfWeek_one_hot_encoding(house1_30s)\n",
    "house1_30s = Month_one_hot_encoding(house1_30s)\n",
    "print(house1_30s.tail(1))\n",
    "#Add month & day of week to 1 minute frequency data\n",
    "house1_1m = Month_one_hot_encoding(house1_1m)\n",
    "house1_1m = DayOfWeek_one_hot_encoding(house1_1m)\n",
    "print(house1_1m.tail(1))\n",
    "#Add month & day of week to 1 hour frequency data\n",
    "house1_1h = Month_one_hot_encoding(house1_1h)\n",
    "house1_1h = DayOfWeek_one_hot_encoding(house1_1h)\n",
    "print(house1_1h.tail(1))\n",
    "#Add month & day of week to 1 day frequency data\n",
    "house1_1d = Month_one_hot_encoding(house1_1d)\n",
    "house1_1d = DayOfWeek_one_hot_encoding(house1_1d)\n",
    "print(house1_1h.tail(1))"
   ]
  },
  {
   "cell_type": "code",
   "execution_count": null,
   "metadata": {},
   "outputs": [],
   "source": [
    "#Export to csv file, Note the filepath\n",
    "col = house1_1s.columns\n",
    "house1_1s.to_csv(path_or_buf='~/Desktop/data-x-data/ProcessedData/House1/House1_1s.csv', sep=',', na_rep='', float_format=None, columns=col, header=True, index=True)\n",
    "house1_30s.to_csv(path_or_buf='~/Desktop/data-x-data/ProcessedData/House1/House1_30s.csv', sep=',', na_rep='', float_format=None, columns=col, header=True, index=True)\n",
    "house1_1m.to_csv(path_or_buf='~/Desktop/data-x-data/ProcessedData/House1/House1_1m.csv', sep=',', na_rep='', float_format=None, columns=col, header=True, index=True)\n",
    "house1_1h.to_csv(path_or_buf='~/Desktop/data-x-data/ProcessedData/House1/House1_1h.csv', sep=',', na_rep='', float_format=None, columns=col, header=True, index=True)\n",
    "house1_1d.to_csv(path_or_buf='~/Desktop/data-x-data/ProcessedData/House1/House1_1d.csv', sep=',', na_rep='', float_format=None, columns=col, header=True, index=True)"
   ]
  }
 ],
 "metadata": {
  "kernelspec": {
   "display_name": "Python 3",
   "language": "python",
   "name": "python3"
  },
  "language_info": {
   "codemirror_mode": {
    "name": "ipython",
    "version": 3
   },
   "file_extension": ".py",
   "mimetype": "text/x-python",
   "name": "python",
   "nbconvert_exporter": "python",
   "pygments_lexer": "ipython3",
   "version": "3.6.5"
  }
 },
 "nbformat": 4,
 "nbformat_minor": 2
}
